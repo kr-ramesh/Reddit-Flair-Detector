{
  "nbformat": 4,
  "nbformat_minor": 0,
  "metadata": {
    "colab": {
      "name": "Scraping data.ipynb",
      "provenance": [],
      "collapsed_sections": []
    },
    "kernelspec": {
      "name": "python3",
      "display_name": "Python 3"
    }
  },
  "cells": [
    {
      "cell_type": "code",
      "metadata": {
        "id": "XbHJtJ4DoNSm",
        "colab_type": "code",
        "colab": {}
      },
      "source": [
        "!pip install psaw\n",
        "!pip install praw"
      ],
      "execution_count": 0,
      "outputs": []
    },
    {
      "cell_type": "code",
      "metadata": {
        "id": "KsNLihyB4_1z",
        "colab_type": "code",
        "colab": {}
      },
      "source": [
        "import praw\n",
        "from psaw import PushshiftAPI\n",
        "\n",
        "r = praw.Reddit(client_id='iCFN0kQ5WEwTaA', client_secret='d2onHobYjKWOc95Gx5Z_X1hZz9o', user_agent='Reddit Web Scraping')\n",
        "api = PushshiftAPI(r)"
      ],
      "execution_count": 0,
      "outputs": []
    },
    {
      "cell_type": "code",
      "metadata": {
        "id": "ULvhjb7qocKM",
        "colab_type": "code",
        "colab": {}
      },
      "source": [
        "import datetime as dt\n",
        "start_epoch=int(dt.datetime(2020, 2, 22).timestamp())\n",
        "end_epoch=int(dt.datetime(2020, 2, 28).timestamp())\n",
        "\n",
        "sub=list(api.search_submissions(before=end_epoch, after=start_epoch,\n",
        "                            subreddit='india',\n",
        "                            filter=['title','link_flair_text', 'num_comments','score','upvote_ratio','view_count','over18','is_original_content'],\n",
        "                            limit=4500))"
      ],
      "execution_count": 0,
      "outputs": []
    },
    {
      "cell_type": "code",
      "metadata": {
        "id": "lPd0w4Rqt3bp",
        "colab_type": "code",
        "colab": {}
      },
      "source": [
        "print(len(sub))"
      ],
      "execution_count": 0,
      "outputs": []
    },
    {
      "cell_type": "code",
      "metadata": {
        "id": "WS1L9RTLuXDl",
        "colab_type": "code",
        "colab": {}
      },
      "source": [
        "flairs=[]\n",
        "title=[]\n",
        "numcom=[]\n",
        "score=[]\n",
        "upvote_ratio=[]\n",
        "viewcount=[]\n",
        "over18=[]\n",
        "created=[]\n",
        "isoriginal=[]"
      ],
      "execution_count": 0,
      "outputs": []
    },
    {
      "cell_type": "code",
      "metadata": {
        "id": "bC1vSXPtxkVg",
        "colab_type": "code",
        "colab": {}
      },
      "source": [
        "for i in sub:\n",
        "  title.append(i.title)\n",
        "  flairs.append(i.link_flair_text)\n",
        "  numcom.append(i.num_comments)\n",
        "  score.append(i.score)\n",
        "  upvote_ratio.append(i.upvote_ratio)\n",
        "  viewcount.append(i.view_count)\n",
        "  over18.append(i.over_18)\n",
        "  isoriginal.append(i.is_original_content)\n",
        "  created.append(i.created_utc)"
      ],
      "execution_count": 0,
      "outputs": []
    },
    {
      "cell_type": "code",
      "metadata": {
        "id": "xI2-sSGUysC3",
        "colab_type": "code",
        "colab": {}
      },
      "source": [
        "import pandas as pd \n",
        "a = pd.DataFrame(\n",
        "    {'Flair': flairs,\n",
        "     'Title': title,\n",
        "     'num_comments': numcom,\n",
        "     'Score':score,\n",
        "     'Is Original':isoriginal,\n",
        "     'Over 18':over18,\n",
        "     'View count':viewcount,\n",
        "     'upvote_ratio': upvote_ratio,\n",
        "     'created': created,\n",
        "    })\n",
        "a.head(10)"
      ],
      "execution_count": 0,
      "outputs": []
    },
    {
      "cell_type": "code",
      "metadata": {
        "id": "I0et-R_91quX",
        "colab_type": "code",
        "colab": {}
      },
      "source": [
        "a.to_csv('R.csv')\n",
        "print(len(title))"
      ],
      "execution_count": 0,
      "outputs": []
    },
    {
      "cell_type": "code",
      "metadata": {
        "id": "7B6a9aa98v-Y",
        "colab_type": "code",
        "colab": {}
      },
      "source": [
        "from google.colab import files\n",
        "files.download('R.csv')"
      ],
      "execution_count": 0,
      "outputs": []
    }
  ]
}